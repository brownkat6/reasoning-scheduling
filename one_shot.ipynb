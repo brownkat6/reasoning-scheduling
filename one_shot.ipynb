{
 "cells": [
  {
   "cell_type": "code",
   "execution_count": 3,
   "id": "e9fc867d",
   "metadata": {},
   "outputs": [
    {
     "name": "stdout",
     "output_type": "stream",
     "text": [
      "{\n",
      "  \"difficulty\": \"easy\",\n",
      "  \"reasoning\": \"This is a basic one-step linear equation requiring only simple arithmetic to isolate x, suitable for beginners.\"\n",
      "}\n"
     ]
    }
   ],
   "source": [
    "from openai import OpenAI\n",
    "import json\n",
    "import os\n",
    "\n",
    "\n",
    "# Initialize OpenAI client\n",
    "client = OpenAI(\n",
    "    organization=\"org-EcCYyn0M7gsIniHsEQURazFb\",\n",
    "    api_key=os.getenv(\"OPENAI_API_KEY\")\n",
    ")\n",
    "\n",
    "def classify_question(question: str) -> dict:\n",
    "    prompt = f\"\"\"\n",
    "You are a math tutor. Classify the following math question into a difficulty level: easy, medium, or hard.\n",
    "Respond strictly in JSON format with two keys:\n",
    "- \"difficulty\": one of \"easy\", \"medium\", or \"hard\".\n",
    "- \"reasoning\": a brief explanation (1-2 sentences) for your choice.\n",
    "\n",
    "Question: \\\"\\\"\\\"{question}\\\"\\\"\\\"\n",
    "\"\"\"\n",
    "    response = client.chat.completions.create(\n",
    "        model=\"o4-mini\",\n",
    "        messages=[\n",
    "            {\"role\": \"system\", \"content\": \"You are a helpful assistant.\"},\n",
    "            {\"role\": \"user\",   \"content\": prompt}\n",
    "        ]\n",
    "    )\n",
    "    content = response.choices[0].message.content.strip()\n",
    "    try:\n",
    "        return json.loads(content)\n",
    "    except json.JSONDecodeError:\n",
    "        raise ValueError(f\"Failed to parse JSON: {content}\")\n",
    "\n",
    "\n",
    "q = \"How do you solve the equation 2x + 3 = 7?\"\n",
    "result = classify_question(q)\n",
    "print(json.dumps(result, indent=2))\n"
   ]
  },
  {
   "cell_type": "code",
   "execution_count": null,
   "id": "b229a31c",
   "metadata": {},
   "outputs": [],
   "source": []
  }
 ],
 "metadata": {
  "kernelspec": {
   "display_name": "torch",
   "language": "python",
   "name": "python3"
  },
  "language_info": {
   "codemirror_mode": {
    "name": "ipython",
    "version": 3
   },
   "file_extension": ".py",
   "mimetype": "text/x-python",
   "name": "python",
   "nbconvert_exporter": "python",
   "pygments_lexer": "ipython3",
   "version": "3.10.13"
  }
 },
 "nbformat": 4,
 "nbformat_minor": 5
}
